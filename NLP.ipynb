{
  "nbformat": 4,
  "nbformat_minor": 0,
  "metadata": {
    "colab": {
      "provenance": []
    },
    "kernelspec": {
      "name": "python3",
      "display_name": "Python 3"
    },
    "language_info": {
      "name": "python"
    }
  },
  "cells": [
    {
      "cell_type": "code",
      "source": [
        "!pip install wordninja"
      ],
      "metadata": {
        "colab": {
          "base_uri": "https://localhost:8080/"
        },
        "id": "ETWioIsGR3jY",
        "outputId": "e2ebda4a-ea73-476f-b5a6-12bb5f28e138"
      },
      "execution_count": 3,
      "outputs": [
        {
          "output_type": "stream",
          "name": "stdout",
          "text": [
            "Requirement already satisfied: wordninja in /usr/local/lib/python3.11/dist-packages (2.0.0)\n"
          ]
        }
      ]
    },
    {
      "cell_type": "code",
      "execution_count": 39,
      "metadata": {
        "id": "J7ZGusnbuxU4",
        "colab": {
          "base_uri": "https://localhost:8080/"
        },
        "outputId": "a21a3c99-b43d-41cd-b353-2c739e667717"
      },
      "outputs": [
        {
          "output_type": "stream",
          "name": "stderr",
          "text": [
            "[nltk_data] Downloading package stopwords to /root/nltk_data...\n",
            "[nltk_data]   Package stopwords is already up-to-date!\n",
            "[nltk_data] Downloading package wordnet to /root/nltk_data...\n",
            "[nltk_data]   Package wordnet is already up-to-date!\n"
          ]
        }
      ],
      "source": [
        "import pandas as pd\n",
        "import numpy as np\n",
        "\n",
        "\n",
        "import zipfile\n",
        "import os\n",
        "from tqdm import tqdm\n",
        "\n",
        "import matplotlib.pyplot as plt\n",
        "import seaborn as sns\n",
        "from matplotlib import style\n",
        "style.use('bmh')\n",
        "\n",
        "import re\n",
        "\n",
        "from sklearn.feature_extraction.text import TfidfVectorizer\n",
        "from sklearn.model_selection import train_test_split\n",
        "from sklearn.metrics import accuracy_score, precision_score, recall_score, f1_score\n",
        "from sklearn.metrics import classification_report\n",
        "from sklearn.linear_model import LogisticRegression, RidgeClassifier\n",
        "from sklearn.naive_bayes import MultinomialNB\n",
        "from sklearn.svm import LinearSVC\n",
        "from sklearn.ensemble import RandomForestClassifier, GradientBoostingClassifier\n",
        "from xgboost import XGBClassifier\n",
        "from lightgbm import LGBMClassifier\n",
        "from sklearn.model_selection import GridSearchCV\n",
        "\n",
        "\n",
        "import nltk\n",
        "import wordninja\n",
        "from nltk.corpus import stopwords\n",
        "from nltk.stem import WordNetLemmatizer\n",
        "nltk.download('stopwords')\n",
        "nltk.download('wordnet')\n",
        "\n",
        "import pickle"
      ]
    },
    {
      "cell_type": "markdown",
      "source": [
        "I will be using the dataset from: https://ai.stanford.edu/~amaas/data/sentiment/ - The dataset is extracted from IMDB and contains a total of 50,000 highly polar movie reviews. The initial dataset is divided into 25,000 for training and 25,000 for testing."
      ],
      "metadata": {
        "id": "svDAaPtl8QLH"
      }
    },
    {
      "cell_type": "markdown",
      "source": [
        "After downloading the dataset, which was in .tar.gz format, I locally extracted it, cleaned some unnesscary files and then recompressed it into .zip for better functionality."
      ],
      "metadata": {
        "id": "aq6HAkVi8x7m"
      }
    },
    {
      "cell_type": "code",
      "source": [
        "# Extracting Zip File\n",
        "\n",
        "zip_path = \"dataset.zip\"\n",
        "extract_path = \"/content/\"\n",
        "\n",
        "# Extract\n",
        "with zipfile.ZipFile(zip_path, 'r') as zip_ref:\n",
        "    file_list = zip_ref.namelist()\n",
        "\n",
        "    print(f\"Extracting files...\\n\")\n",
        "    for file in tqdm(file_list):\n",
        "        zip_ref.extract(file, extract_path)\n",
        "\n",
        "print(\"\\nExtraction complete.\")\n",
        "\n",
        "# Don't mind the number if it says 100008 files being extracted, the dataset also contains some 'unsup' folder with 50k untagged reviews -_-"
      ],
      "metadata": {
        "colab": {
          "base_uri": "https://localhost:8080/"
        },
        "id": "ma12DGPE8vGd",
        "outputId": "1790bcab-392a-4dc3-a1d4-c02147606fa8"
      },
      "execution_count": 5,
      "outputs": [
        {
          "output_type": "stream",
          "name": "stdout",
          "text": [
            "Extracting files...\n",
            "\n"
          ]
        },
        {
          "output_type": "stream",
          "name": "stderr",
          "text": [
            "100%|██████████| 100008/100008 [00:39<00:00, 2515.97it/s]"
          ]
        },
        {
          "output_type": "stream",
          "name": "stdout",
          "text": [
            "\n",
            "Extraction complete.\n"
          ]
        },
        {
          "output_type": "stream",
          "name": "stderr",
          "text": [
            "\n"
          ]
        }
      ]
    },
    {
      "cell_type": "markdown",
      "source": [
        "# Loading & Combining into One Dataframe\n",
        "For a better ease of access and understanding, what I am going to do is; I am going to combine the entire dataset into one dataframe with 2 columns, namely: reviews and sentiment - with 1 indicating postive and 0 negative\n",
        "\n",
        "Why? Because currently, the dataset is divided into train and test folders and each containing sub folders with 'pos' and 'neg' reviews and this could prove to be tedious when going ahead with pre-processing.  \n",
        "\n",
        "And I can always spilit the newly combined dataframe into train_test using scikit learn after pre-processing"
      ],
      "metadata": {
        "id": "hiTcdiw9_COi"
      }
    },
    {
      "cell_type": "code",
      "source": [
        "def load_reviews_from_folder(folder_path, sentiment_label):\n",
        "    data = []\n",
        "    filenames = sorted(os.listdir(folder_path))\n",
        "\n",
        "    for filename in tqdm(filenames, desc=f\"Loading from {os.path.basename(folder_path)}\"):\n",
        "        file_path = os.path.join(folder_path, filename)\n",
        "        with open(file_path, 'r', encoding='utf-8') as file:\n",
        "            review = file.read()\n",
        "            data.append((review, sentiment_label))\n",
        "\n",
        "    return data\n",
        "\n",
        "# Paths for train and test (both positive and negative)\n",
        "base_path = \"/content/dataset\"\n",
        "datasets = []\n",
        "\n",
        "for split in [\"train\", \"test\"]:\n",
        "    print(f\"\\n🔹 Processing {split} data...\")\n",
        "\n",
        "    pos_path = os.path.join(base_path, split, \"pos\")\n",
        "    neg_path = os.path.join(base_path, split, \"neg\")\n",
        "\n",
        "    datasets.extend(load_reviews_from_folder(pos_path, 1))  # Positive = 1\n",
        "    datasets.extend(load_reviews_from_folder(neg_path, 0))  # Negative = 0\n",
        "\n",
        "# Combine into DataFrame\n",
        "df = pd.DataFrame(datasets, columns=[\"review\", \"sentiment\"])\n",
        "\n",
        "# Shuffle (why not?)\n",
        "df = df.sample(frac=1, random_state=1).reset_index(drop=True)\n",
        "\n",
        "df.head()\n"
      ],
      "metadata": {
        "colab": {
          "base_uri": "https://localhost:8080/",
          "height": 345
        },
        "id": "nbCv1_0iARJX",
        "outputId": "32e9a599-5d32-4be3-bcd1-e4175d30dbf2"
      },
      "execution_count": 6,
      "outputs": [
        {
          "output_type": "stream",
          "name": "stdout",
          "text": [
            "\n",
            "🔹 Processing train data...\n"
          ]
        },
        {
          "output_type": "stream",
          "name": "stderr",
          "text": [
            "Loading from pos: 100%|██████████| 12500/12500 [00:00<00:00, 34456.16it/s]\n",
            "Loading from neg: 100%|██████████| 12500/12500 [00:00<00:00, 36388.77it/s]\n"
          ]
        },
        {
          "output_type": "stream",
          "name": "stdout",
          "text": [
            "\n",
            "🔹 Processing test data...\n"
          ]
        },
        {
          "output_type": "stream",
          "name": "stderr",
          "text": [
            "Loading from pos: 100%|██████████| 12500/12500 [00:00<00:00, 33523.94it/s]\n",
            "Loading from neg: 100%|██████████| 12500/12500 [00:00<00:00, 35775.24it/s]\n"
          ]
        },
        {
          "output_type": "execute_result",
          "data": {
            "text/plain": [
              "                                              review  sentiment\n",
              "0  Fame is one of the best movies I've seen about...          1\n",
              "1  This movie fully deserves to be one of the top...          1\n",
              "2  in a time of predictable movies, in which abou...          1\n",
              "3  I saw this on TV the other night\n",
              " or rather I ...          0\n",
              "4  I am a huge fan of Simon Pegg and have watched...          1"
            ],
            "text/html": [
              "\n",
              "  <div id=\"df-5b37cc11-82a1-4ed3-bafc-c955f0beeb50\" class=\"colab-df-container\">\n",
              "    <div>\n",
              "<style scoped>\n",
              "    .dataframe tbody tr th:only-of-type {\n",
              "        vertical-align: middle;\n",
              "    }\n",
              "\n",
              "    .dataframe tbody tr th {\n",
              "        vertical-align: top;\n",
              "    }\n",
              "\n",
              "    .dataframe thead th {\n",
              "        text-align: right;\n",
              "    }\n",
              "</style>\n",
              "<table border=\"1\" class=\"dataframe\">\n",
              "  <thead>\n",
              "    <tr style=\"text-align: right;\">\n",
              "      <th></th>\n",
              "      <th>review</th>\n",
              "      <th>sentiment</th>\n",
              "    </tr>\n",
              "  </thead>\n",
              "  <tbody>\n",
              "    <tr>\n",
              "      <th>0</th>\n",
              "      <td>Fame is one of the best movies I've seen about...</td>\n",
              "      <td>1</td>\n",
              "    </tr>\n",
              "    <tr>\n",
              "      <th>1</th>\n",
              "      <td>This movie fully deserves to be one of the top...</td>\n",
              "      <td>1</td>\n",
              "    </tr>\n",
              "    <tr>\n",
              "      <th>2</th>\n",
              "      <td>in a time of predictable movies, in which abou...</td>\n",
              "      <td>1</td>\n",
              "    </tr>\n",
              "    <tr>\n",
              "      <th>3</th>\n",
              "      <td>I saw this on TV the other night or rather I ...</td>\n",
              "      <td>0</td>\n",
              "    </tr>\n",
              "    <tr>\n",
              "      <th>4</th>\n",
              "      <td>I am a huge fan of Simon Pegg and have watched...</td>\n",
              "      <td>1</td>\n",
              "    </tr>\n",
              "  </tbody>\n",
              "</table>\n",
              "</div>\n",
              "    <div class=\"colab-df-buttons\">\n",
              "\n",
              "  <div class=\"colab-df-container\">\n",
              "    <button class=\"colab-df-convert\" onclick=\"convertToInteractive('df-5b37cc11-82a1-4ed3-bafc-c955f0beeb50')\"\n",
              "            title=\"Convert this dataframe to an interactive table.\"\n",
              "            style=\"display:none;\">\n",
              "\n",
              "  <svg xmlns=\"http://www.w3.org/2000/svg\" height=\"24px\" viewBox=\"0 -960 960 960\">\n",
              "    <path d=\"M120-120v-720h720v720H120Zm60-500h600v-160H180v160Zm220 220h160v-160H400v160Zm0 220h160v-160H400v160ZM180-400h160v-160H180v160Zm440 0h160v-160H620v160ZM180-180h160v-160H180v160Zm440 0h160v-160H620v160Z\"/>\n",
              "  </svg>\n",
              "    </button>\n",
              "\n",
              "  <style>\n",
              "    .colab-df-container {\n",
              "      display:flex;\n",
              "      gap: 12px;\n",
              "    }\n",
              "\n",
              "    .colab-df-convert {\n",
              "      background-color: #E8F0FE;\n",
              "      border: none;\n",
              "      border-radius: 50%;\n",
              "      cursor: pointer;\n",
              "      display: none;\n",
              "      fill: #1967D2;\n",
              "      height: 32px;\n",
              "      padding: 0 0 0 0;\n",
              "      width: 32px;\n",
              "    }\n",
              "\n",
              "    .colab-df-convert:hover {\n",
              "      background-color: #E2EBFA;\n",
              "      box-shadow: 0px 1px 2px rgba(60, 64, 67, 0.3), 0px 1px 3px 1px rgba(60, 64, 67, 0.15);\n",
              "      fill: #174EA6;\n",
              "    }\n",
              "\n",
              "    .colab-df-buttons div {\n",
              "      margin-bottom: 4px;\n",
              "    }\n",
              "\n",
              "    [theme=dark] .colab-df-convert {\n",
              "      background-color: #3B4455;\n",
              "      fill: #D2E3FC;\n",
              "    }\n",
              "\n",
              "    [theme=dark] .colab-df-convert:hover {\n",
              "      background-color: #434B5C;\n",
              "      box-shadow: 0px 1px 3px 1px rgba(0, 0, 0, 0.15);\n",
              "      filter: drop-shadow(0px 1px 2px rgba(0, 0, 0, 0.3));\n",
              "      fill: #FFFFFF;\n",
              "    }\n",
              "  </style>\n",
              "\n",
              "    <script>\n",
              "      const buttonEl =\n",
              "        document.querySelector('#df-5b37cc11-82a1-4ed3-bafc-c955f0beeb50 button.colab-df-convert');\n",
              "      buttonEl.style.display =\n",
              "        google.colab.kernel.accessAllowed ? 'block' : 'none';\n",
              "\n",
              "      async function convertToInteractive(key) {\n",
              "        const element = document.querySelector('#df-5b37cc11-82a1-4ed3-bafc-c955f0beeb50');\n",
              "        const dataTable =\n",
              "          await google.colab.kernel.invokeFunction('convertToInteractive',\n",
              "                                                    [key], {});\n",
              "        if (!dataTable) return;\n",
              "\n",
              "        const docLinkHtml = 'Like what you see? Visit the ' +\n",
              "          '<a target=\"_blank\" href=https://colab.research.google.com/notebooks/data_table.ipynb>data table notebook</a>'\n",
              "          + ' to learn more about interactive tables.';\n",
              "        element.innerHTML = '';\n",
              "        dataTable['output_type'] = 'display_data';\n",
              "        await google.colab.output.renderOutput(dataTable, element);\n",
              "        const docLink = document.createElement('div');\n",
              "        docLink.innerHTML = docLinkHtml;\n",
              "        element.appendChild(docLink);\n",
              "      }\n",
              "    </script>\n",
              "  </div>\n",
              "\n",
              "\n",
              "    <div id=\"df-06cfe5fe-a464-4a90-977e-b93c8ed9d62d\">\n",
              "      <button class=\"colab-df-quickchart\" onclick=\"quickchart('df-06cfe5fe-a464-4a90-977e-b93c8ed9d62d')\"\n",
              "                title=\"Suggest charts\"\n",
              "                style=\"display:none;\">\n",
              "\n",
              "<svg xmlns=\"http://www.w3.org/2000/svg\" height=\"24px\"viewBox=\"0 0 24 24\"\n",
              "     width=\"24px\">\n",
              "    <g>\n",
              "        <path d=\"M19 3H5c-1.1 0-2 .9-2 2v14c0 1.1.9 2 2 2h14c1.1 0 2-.9 2-2V5c0-1.1-.9-2-2-2zM9 17H7v-7h2v7zm4 0h-2V7h2v10zm4 0h-2v-4h2v4z\"/>\n",
              "    </g>\n",
              "</svg>\n",
              "      </button>\n",
              "\n",
              "<style>\n",
              "  .colab-df-quickchart {\n",
              "      --bg-color: #E8F0FE;\n",
              "      --fill-color: #1967D2;\n",
              "      --hover-bg-color: #E2EBFA;\n",
              "      --hover-fill-color: #174EA6;\n",
              "      --disabled-fill-color: #AAA;\n",
              "      --disabled-bg-color: #DDD;\n",
              "  }\n",
              "\n",
              "  [theme=dark] .colab-df-quickchart {\n",
              "      --bg-color: #3B4455;\n",
              "      --fill-color: #D2E3FC;\n",
              "      --hover-bg-color: #434B5C;\n",
              "      --hover-fill-color: #FFFFFF;\n",
              "      --disabled-bg-color: #3B4455;\n",
              "      --disabled-fill-color: #666;\n",
              "  }\n",
              "\n",
              "  .colab-df-quickchart {\n",
              "    background-color: var(--bg-color);\n",
              "    border: none;\n",
              "    border-radius: 50%;\n",
              "    cursor: pointer;\n",
              "    display: none;\n",
              "    fill: var(--fill-color);\n",
              "    height: 32px;\n",
              "    padding: 0;\n",
              "    width: 32px;\n",
              "  }\n",
              "\n",
              "  .colab-df-quickchart:hover {\n",
              "    background-color: var(--hover-bg-color);\n",
              "    box-shadow: 0 1px 2px rgba(60, 64, 67, 0.3), 0 1px 3px 1px rgba(60, 64, 67, 0.15);\n",
              "    fill: var(--button-hover-fill-color);\n",
              "  }\n",
              "\n",
              "  .colab-df-quickchart-complete:disabled,\n",
              "  .colab-df-quickchart-complete:disabled:hover {\n",
              "    background-color: var(--disabled-bg-color);\n",
              "    fill: var(--disabled-fill-color);\n",
              "    box-shadow: none;\n",
              "  }\n",
              "\n",
              "  .colab-df-spinner {\n",
              "    border: 2px solid var(--fill-color);\n",
              "    border-color: transparent;\n",
              "    border-bottom-color: var(--fill-color);\n",
              "    animation:\n",
              "      spin 1s steps(1) infinite;\n",
              "  }\n",
              "\n",
              "  @keyframes spin {\n",
              "    0% {\n",
              "      border-color: transparent;\n",
              "      border-bottom-color: var(--fill-color);\n",
              "      border-left-color: var(--fill-color);\n",
              "    }\n",
              "    20% {\n",
              "      border-color: transparent;\n",
              "      border-left-color: var(--fill-color);\n",
              "      border-top-color: var(--fill-color);\n",
              "    }\n",
              "    30% {\n",
              "      border-color: transparent;\n",
              "      border-left-color: var(--fill-color);\n",
              "      border-top-color: var(--fill-color);\n",
              "      border-right-color: var(--fill-color);\n",
              "    }\n",
              "    40% {\n",
              "      border-color: transparent;\n",
              "      border-right-color: var(--fill-color);\n",
              "      border-top-color: var(--fill-color);\n",
              "    }\n",
              "    60% {\n",
              "      border-color: transparent;\n",
              "      border-right-color: var(--fill-color);\n",
              "    }\n",
              "    80% {\n",
              "      border-color: transparent;\n",
              "      border-right-color: var(--fill-color);\n",
              "      border-bottom-color: var(--fill-color);\n",
              "    }\n",
              "    90% {\n",
              "      border-color: transparent;\n",
              "      border-bottom-color: var(--fill-color);\n",
              "    }\n",
              "  }\n",
              "</style>\n",
              "\n",
              "      <script>\n",
              "        async function quickchart(key) {\n",
              "          const quickchartButtonEl =\n",
              "            document.querySelector('#' + key + ' button');\n",
              "          quickchartButtonEl.disabled = true;  // To prevent multiple clicks.\n",
              "          quickchartButtonEl.classList.add('colab-df-spinner');\n",
              "          try {\n",
              "            const charts = await google.colab.kernel.invokeFunction(\n",
              "                'suggestCharts', [key], {});\n",
              "          } catch (error) {\n",
              "            console.error('Error during call to suggestCharts:', error);\n",
              "          }\n",
              "          quickchartButtonEl.classList.remove('colab-df-spinner');\n",
              "          quickchartButtonEl.classList.add('colab-df-quickchart-complete');\n",
              "        }\n",
              "        (() => {\n",
              "          let quickchartButtonEl =\n",
              "            document.querySelector('#df-06cfe5fe-a464-4a90-977e-b93c8ed9d62d button');\n",
              "          quickchartButtonEl.style.display =\n",
              "            google.colab.kernel.accessAllowed ? 'block' : 'none';\n",
              "        })();\n",
              "      </script>\n",
              "    </div>\n",
              "\n",
              "    </div>\n",
              "  </div>\n"
            ],
            "application/vnd.google.colaboratory.intrinsic+json": {
              "type": "dataframe",
              "variable_name": "df",
              "summary": "{\n  \"name\": \"df\",\n  \"rows\": 50000,\n  \"fields\": [\n    {\n      \"column\": \"review\",\n      \"properties\": {\n        \"dtype\": \"string\",\n        \"num_unique_values\": 49582,\n        \"samples\": [\n          \"The only reason I rented this was because of the article in Fangoria Magazine. The article made this film look interesting. Well, it isn't. This was a very boring, amateurishly written and directed movie. All the actors in this movie are awful, except Faye Dunaway, who is always a joy to watch. But too much time was focused on Gina Phillips and her ridiculous encounters with ravens and Duilio Marzio. Marzio has such a thick Argentinean accent, you can only understand every couple of words he says. Also on hand is Nicholas Pauls, who plays the ultra-bland love interest to Gina Phillips. The bottom line: this movie is not scary. There is only one good scene and that is the last five to ten minutes of the movie. I would have given this one star, but I gave it three just because I like Faye Dunaway so much. But even she wasn't that great in this.\",\n          \"<br /><br />Cheap-looking and ugly, this film didn't even seem to entertain the kids in the audience, except for one fairly amusing toilet joke. Christopher Lloyd is way past his prime and actually quite tiresome in this role, although the sorry excuse for jokes by the writers don't help. \\u00a0 Elizabeth Hurley is embarrassingly amateurish in a supposedly comic role. Jeff Daniels and Darryl Hannah avoid humiliation. There is really no reason to make this movie, especially since it is unavoidable that one will compare it with Robin Williams's often brilliant improvisations in Mork & Mindy.<br /><br />\",\n          \"It's the single unfunniest thing I ever watched. It's sad how he tries so hard to come up with a good joke and all he does is curse and thinks his disgusting vulgarity is funny. He is the most bitter person I ever saw. His whole act he is trying to show how much he doesn't care, and by that only showing how much he's angry at the critics and the people with any taste and sense of humor who'd rather go through immense torture than go watch his \\\"show\\\". There are good comedians, there are bad ones and there are horrible ones. But this guy is in a league of his own. I feel sorry for him and even more for the people who find him funny.\"\n        ],\n        \"semantic_type\": \"\",\n        \"description\": \"\"\n      }\n    },\n    {\n      \"column\": \"sentiment\",\n      \"properties\": {\n        \"dtype\": \"number\",\n        \"std\": 0,\n        \"min\": 0,\n        \"max\": 1,\n        \"num_unique_values\": 2,\n        \"samples\": [\n          0,\n          1\n        ],\n        \"semantic_type\": \"\",\n        \"description\": \"\"\n      }\n    }\n  ]\n}"
            }
          },
          "metadata": {},
          "execution_count": 6
        }
      ]
    },
    {
      "cell_type": "code",
      "source": [
        "df.count()"
      ],
      "metadata": {
        "colab": {
          "base_uri": "https://localhost:8080/",
          "height": 147
        },
        "id": "kdIcjAGPAaFH",
        "outputId": "2ad2b43f-75c0-4585-bd31-a7d38979312b"
      },
      "execution_count": 7,
      "outputs": [
        {
          "output_type": "execute_result",
          "data": {
            "text/plain": [
              "review       50000\n",
              "sentiment    50000\n",
              "dtype: int64"
            ],
            "text/html": [
              "<div>\n",
              "<style scoped>\n",
              "    .dataframe tbody tr th:only-of-type {\n",
              "        vertical-align: middle;\n",
              "    }\n",
              "\n",
              "    .dataframe tbody tr th {\n",
              "        vertical-align: top;\n",
              "    }\n",
              "\n",
              "    .dataframe thead th {\n",
              "        text-align: right;\n",
              "    }\n",
              "</style>\n",
              "<table border=\"1\" class=\"dataframe\">\n",
              "  <thead>\n",
              "    <tr style=\"text-align: right;\">\n",
              "      <th></th>\n",
              "      <th>0</th>\n",
              "    </tr>\n",
              "  </thead>\n",
              "  <tbody>\n",
              "    <tr>\n",
              "      <th>review</th>\n",
              "      <td>50000</td>\n",
              "    </tr>\n",
              "    <tr>\n",
              "      <th>sentiment</th>\n",
              "      <td>50000</td>\n",
              "    </tr>\n",
              "  </tbody>\n",
              "</table>\n",
              "</div><br><label><b>dtype:</b> int64</label>"
            ]
          },
          "metadata": {},
          "execution_count": 7
        }
      ]
    },
    {
      "cell_type": "code",
      "source": [
        "df.info() # sentiment column is int already - just a note"
      ],
      "metadata": {
        "colab": {
          "base_uri": "https://localhost:8080/"
        },
        "id": "0UyQLxrMV9T6",
        "outputId": "174a56c3-fee8-471d-abf4-a13fb1bb9110"
      },
      "execution_count": 8,
      "outputs": [
        {
          "output_type": "stream",
          "name": "stdout",
          "text": [
            "<class 'pandas.core.frame.DataFrame'>\n",
            "RangeIndex: 50000 entries, 0 to 49999\n",
            "Data columns (total 2 columns):\n",
            " #   Column     Non-Null Count  Dtype \n",
            "---  ------     --------------  ----- \n",
            " 0   review     50000 non-null  object\n",
            " 1   sentiment  50000 non-null  int64 \n",
            "dtypes: int64(1), object(1)\n",
            "memory usage: 781.4+ KB\n"
          ]
        }
      ]
    },
    {
      "cell_type": "code",
      "source": [
        "df.isnull().sum()"
      ],
      "metadata": {
        "colab": {
          "base_uri": "https://localhost:8080/",
          "height": 147
        },
        "id": "D4gZZAzNBnsW",
        "outputId": "397c3ee9-f3a9-4c1b-a9d9-0587ed754eaa"
      },
      "execution_count": 9,
      "outputs": [
        {
          "output_type": "execute_result",
          "data": {
            "text/plain": [
              "review       0\n",
              "sentiment    0\n",
              "dtype: int64"
            ],
            "text/html": [
              "<div>\n",
              "<style scoped>\n",
              "    .dataframe tbody tr th:only-of-type {\n",
              "        vertical-align: middle;\n",
              "    }\n",
              "\n",
              "    .dataframe tbody tr th {\n",
              "        vertical-align: top;\n",
              "    }\n",
              "\n",
              "    .dataframe thead th {\n",
              "        text-align: right;\n",
              "    }\n",
              "</style>\n",
              "<table border=\"1\" class=\"dataframe\">\n",
              "  <thead>\n",
              "    <tr style=\"text-align: right;\">\n",
              "      <th></th>\n",
              "      <th>0</th>\n",
              "    </tr>\n",
              "  </thead>\n",
              "  <tbody>\n",
              "    <tr>\n",
              "      <th>review</th>\n",
              "      <td>0</td>\n",
              "    </tr>\n",
              "    <tr>\n",
              "      <th>sentiment</th>\n",
              "      <td>0</td>\n",
              "    </tr>\n",
              "  </tbody>\n",
              "</table>\n",
              "</div><br><label><b>dtype:</b> int64</label>"
            ]
          },
          "metadata": {},
          "execution_count": 9
        }
      ]
    },
    {
      "cell_type": "code",
      "source": [
        "# Manually Checking review against its sentiment value\n",
        "print(f\"The review is:\\n{df['review'][2]}. \\nThe sentiment is\\n{df['sentiment'][2]}\")"
      ],
      "metadata": {
        "colab": {
          "base_uri": "https://localhost:8080/"
        },
        "id": "KwW1wvZmBrU4",
        "outputId": "2c35d4c7-20cc-40e3-b513-a8e5b1af3dfc"
      },
      "execution_count": 10,
      "outputs": [
        {
          "output_type": "stream",
          "name": "stdout",
          "text": [
            "The review is:\n",
            "in a time of predictable movies, in which abound violence, cheap romance and melodrama, it is delightfully surprising to find such a strange movie. the plot itself is compelling, and the actors are excellent, especially Alan Rickman. If you want to watch a movie that does not provide all the answers before asking the questions, a movie that will surprise you (in good or bad), Dark Harbor's for you. And if you're not convinced, believe me that Alan Rickman's performance is well worth it... especially at the end, ladies..... \n",
            "The sentiment is\n",
            "1\n"
          ]
        }
      ]
    },
    {
      "cell_type": "code",
      "source": [
        "# Checking review against its sentiment value\n",
        "print(f\"The review is:\\n{df['review'][3]}. \\nThe sentiment is\\n{df['sentiment'][3]}\")"
      ],
      "metadata": {
        "colab": {
          "base_uri": "https://localhost:8080/"
        },
        "id": "HoVcxkksCJ-2",
        "outputId": "0ed7c2d1-79ed-4a39-b00e-7d0111d0a60c"
      },
      "execution_count": 11,
      "outputs": [
        {
          "output_type": "stream",
          "name": "stdout",
          "text": [
            "The review is:\n",
            "I saw this on TV the other night or rather I flicked over to another channel every so often to watch infomercials when I couldn't stand watching it any longer. It was bad. Really, really bad. Not \"so bad it's good\" just flat out bad. How did it get funded? Who thought this was a good idea? An actor friend of mine auditioned and was told he wasn't good enough to play a bad guy but I think what they meant was \"save yourself and runaway from this steaming pile of @#$%.\" I bet the rest of the cast had been given the option. To be fair the acting was hard to judge because of the appalling fake American ascents. The shooting was dullllllllllll. The action was awkward and stilted. The dialog was inane. By far the saddest thing was ship. In real life the Interislander ferry is a shabby boat and on film it doesn't scrub up well. Instead of trying very unsuccessfully to make it look like a new crews liner with bits of tinsel wrapped around rusting polls, I kid you not, they could have change the script to explain or even celebrate the shabbiness. Dumb, Dumb, Dumb. Don't watch this movie, not even as a joke.. \n",
            "The sentiment is\n",
            "0\n"
          ]
        }
      ]
    },
    {
      "cell_type": "code",
      "source": [
        "sns.countplot(x='sentiment', data=df, hue='sentiment', palette='pastel')\n",
        "plt.xlabel(\"Sentiment\")\n",
        "plt.ylabel(\"Count\")\n",
        "plt.title(\"Count of Positive and Negative Reviews\")\n",
        "plt.show()"
      ],
      "metadata": {
        "colab": {
          "base_uri": "https://localhost:8080/",
          "height": 472
        },
        "id": "s6N-K3wOTgIs",
        "outputId": "ab548ecd-a1e5-42d3-a6bf-fefdb72dd0da"
      },
      "execution_count": 12,
      "outputs": [
        {
          "output_type": "display_data",
          "data": {
            "text/plain": [
              "<Figure size 640x480 with 1 Axes>"
            ],
            "image/png": "[encoded data removed]"
          },
          "metadata": {}
        }
      ]
    },
    {
      "cell_type": "markdown",
      "source": [
        "The dataset is balanced. And yep! Now we have total of 50,000 reviews and their sentiments perfectly in a dataframe. Now off to pre-processing."
      ],
      "metadata": {
        "id": "BbN38ks7BLud"
      }
    },
    {
      "cell_type": "markdown",
      "source": [
        "# Pre-Processing"
      ],
      "metadata": {
        "id": "1xc1aIMjBkQW"
      }
    },
    {
      "cell_type": "markdown",
      "source": [
        "So this function cleans and lemmatizes (*I am using lemmatizer since I need accuracy over speed*) text data in a DataFrame, removing noise like HTML, URLs, punctuation, and stopwords, then stores the processed text in a new column with a progress bar - So I can monitor the progress :).\n",
        "\n",
        "\n"
      ],
      "metadata": {
        "id": "y1r3Ou8AN-W5"
      }
    },
    {
      "cell_type": "code",
      "source": [
        "def preprocess_text(df, text_column='review'):\n",
        "    \"\"\"\n",
        "    Parameters:\n",
        "    ------\n",
        "    df : pandas DataFrame\n",
        "        DataFrame containing the text data\n",
        "    text_column : str, default='review'\n",
        "        Name of the column containing the text to preprocess\n",
        "\n",
        "    Returns:\n",
        "    --------\n",
        "    pandas DataFrame\n",
        "        DataFrame with preprocessed text in a new column 'processed_text'\n",
        "    \"\"\"\n",
        "\n",
        "    processed_df = df.copy()\n",
        "\n",
        "    lemmatizer = WordNetLemmatizer() # I am using Lemmatizer for better accuracy\n",
        "\n",
        "    stop_words = set(stopwords.words('english'))\n",
        "\n",
        "    def clean_text(text):\n",
        "        text = text.lower() # Convert to lowercase\n",
        "\n",
        "        # Remove HTML tags\n",
        "        text = re.sub(r'<.*?>', '', text)\n",
        "\n",
        "        text = re.sub(r'http\\S+|www\\S+|https\\S+', '', text) # Remove URLs\n",
        "\n",
        "        # Remove special characters and numbers\n",
        "        text = re.sub(r'[^a-zA-Z\\s]', '', text)\n",
        "\n",
        "        words = text.split()\n",
        "\n",
        "        # Split glued words using wordninja - Some words were joined together, so I had to modify and add worninja\n",
        "        split_words = []\n",
        "        for word in words:\n",
        "          split_words.extend(wordninja.split(word))\n",
        "\n",
        "        # Remove stopwords and lemmatize\n",
        "        words = [lemmatizer.lemmatize(word) for word in words if word not in stop_words]\n",
        "\n",
        "        # Join words back into text\n",
        "        return ' '.join(words)\n",
        "\n",
        "    # Apply preprocessing to the text column\n",
        "    tqdm.pandas(desc=\"Preprocessing text\")\n",
        "    processed_df['processed_text'] = processed_df[text_column].progress_apply(clean_text)\n",
        "    cols = [col for col in processed_df.columns if col != 'sentiment'] + ['sentiment'] # To move the sentiment col at the end for better readability\n",
        "    processed_df = processed_df[cols]\n",
        "\n",
        "    return processed_df"
      ],
      "metadata": {
        "id": "n5rZN71FBEx6"
      },
      "execution_count": 13,
      "outputs": []
    },
    {
      "cell_type": "code",
      "source": [
        "processed_df = preprocess_text(df) # Might take some time because of worninja\n",
        "# I am using Colab so the compute power is enough to perfrom the func in less than 4 mins"
      ],
      "metadata": {
        "id": "cSZSEkQUBieO",
        "colab": {
          "base_uri": "https://localhost:8080/"
        },
        "outputId": "0e21d247-6f39-4222-e6ba-4ea1ea8c1cdf"
      },
      "execution_count": 14,
      "outputs": [
        {
          "output_type": "stream",
          "name": "stderr",
          "text": [
            "Preprocessing text: 100%|██████████| 50000/50000 [04:33<00:00, 182.86it/s]\n"
          ]
        }
      ]
    },
    {
      "cell_type": "code",
      "source": [
        "processed_df['processed_text'][0]"
      ],
      "metadata": {
        "colab": {
          "base_uri": "https://localhost:8080/",
          "height": 53
        },
        "id": "j3-Od2QaRXxk",
        "outputId": "0299add2-76e7-490b-f8b5-3de9fe5ef1bf"
      },
      "execution_count": 15,
      "outputs": [
        {
          "output_type": "execute_result",
          "data": {
            "text/plain": [
              "'fame one best movie ive seen performing art music acting excellent screenplay set design also excellent favorite part student start dancing making music canteen see movie number time never get bored give'"
            ],
            "application/vnd.google.colaboratory.intrinsic+json": {
              "type": "string"
            }
          },
          "metadata": {},
          "execution_count": 15
        }
      ]
    },
    {
      "cell_type": "code",
      "source": [
        "processed_df['processed_text'][2]"
      ],
      "metadata": {
        "colab": {
          "base_uri": "https://localhost:8080/",
          "height": 53
        },
        "id": "RW0BxsHaRagd",
        "outputId": "6bfa9450-985e-45d2-a6d0-6fa6a9eefac1"
      },
      "execution_count": 16,
      "outputs": [
        {
          "output_type": "execute_result",
          "data": {
            "text/plain": [
              "'time predictable movie abound violence cheap romance melodrama delightfully surprising find strange movie plot compelling actor excellent especially alan rickman want watch movie provide answer asking question movie surprise good bad dark harbor youre convinced believe alan rickmans performance well worth especially end lady'"
            ],
            "application/vnd.google.colaboratory.intrinsic+json": {
              "type": "string"
            }
          },
          "metadata": {},
          "execution_count": 16
        }
      ]
    },
    {
      "cell_type": "markdown",
      "source": [
        "## Checking for Duplicates"
      ],
      "metadata": {
        "id": "arbUDlxEVl0p"
      }
    },
    {
      "cell_type": "code",
      "source": [
        "duplicates = processed_df.duplicated().sum()\n",
        "duplicates"
      ],
      "metadata": {
        "colab": {
          "base_uri": "https://localhost:8080/"
        },
        "id": "pjM-KEPrPbvO",
        "outputId": "961b6646-2f81-468e-df0e-116b37ba36e3"
      },
      "execution_count": 17,
      "outputs": [
        {
          "output_type": "execute_result",
          "data": {
            "text/plain": [
              "np.int64(418)"
            ]
          },
          "metadata": {},
          "execution_count": 17
        }
      ]
    },
    {
      "cell_type": "code",
      "source": [
        "processed_df = processed_df.drop_duplicates()\n",
        "\n",
        "print(f\"Dropped total of {duplicates} duplicates\")"
      ],
      "metadata": {
        "colab": {
          "base_uri": "https://localhost:8080/"
        },
        "id": "ujnd37czXc1e",
        "outputId": "173fd999-45b9-4f49-c4b5-eedd4b71a58e"
      },
      "execution_count": 18,
      "outputs": [
        {
          "output_type": "stream",
          "name": "stdout",
          "text": [
            "Dropped total of 418 duplicates\n"
          ]
        }
      ]
    },
    {
      "cell_type": "code",
      "source": [
        "processed_df.count()"
      ],
      "metadata": {
        "colab": {
          "base_uri": "https://localhost:8080/",
          "height": 178
        },
        "id": "AyfSOxH8Xw8p",
        "outputId": "43e060fd-f878-4cf8-a9b9-70a1eddf9235"
      },
      "execution_count": 19,
      "outputs": [
        {
          "output_type": "execute_result",
          "data": {
            "text/plain": [
              "review            49582\n",
              "processed_text    49582\n",
              "sentiment         49582\n",
              "dtype: int64"
            ],
            "text/html": [
              "<div>\n",
              "<style scoped>\n",
              "    .dataframe tbody tr th:only-of-type {\n",
              "        vertical-align: middle;\n",
              "    }\n",
              "\n",
              "    .dataframe tbody tr th {\n",
              "        vertical-align: top;\n",
              "    }\n",
              "\n",
              "    .dataframe thead th {\n",
              "        text-align: right;\n",
              "    }\n",
              "</style>\n",
              "<table border=\"1\" class=\"dataframe\">\n",
              "  <thead>\n",
              "    <tr style=\"text-align: right;\">\n",
              "      <th></th>\n",
              "      <th>0</th>\n",
              "    </tr>\n",
              "  </thead>\n",
              "  <tbody>\n",
              "    <tr>\n",
              "      <th>review</th>\n",
              "      <td>49582</td>\n",
              "    </tr>\n",
              "    <tr>\n",
              "      <th>processed_text</th>\n",
              "      <td>49582</td>\n",
              "    </tr>\n",
              "    <tr>\n",
              "      <th>sentiment</th>\n",
              "      <td>49582</td>\n",
              "    </tr>\n",
              "  </tbody>\n",
              "</table>\n",
              "</div><br><label><b>dtype:</b> int64</label>"
            ]
          },
          "metadata": {},
          "execution_count": 19
        }
      ]
    },
    {
      "cell_type": "markdown",
      "source": [
        "## Splitting Data\n",
        "\n",
        "I will do it in a rather un-traditional way. For the splitting part, I will split into four different groups: **full_train, train, validation and test**.\n",
        "\n",
        "The idea is to have train and validation for training and then pefroming hyper-parameter tuning on the validation. Once I have selected which ML algo performs best and with the suitable hyper-parameter, I will then train that model using specific parameters on the full_train and test data so that it takes more data into account for the final training.\n"
      ],
      "metadata": {
        "id": "fOq_x80wYpBg"
      }
    },
    {
      "cell_type": "code",
      "source": [
        "X = processed_df['processed_text'] # containing our processed text column\n",
        "y = processed_df['sentiment'] # our target variables"
      ],
      "metadata": {
        "id": "EXwrjUqcZv40"
      },
      "execution_count": 20,
      "outputs": []
    },
    {
      "cell_type": "code",
      "source": [
        "tqdm.pandas() # who doesn't love a progress bar?\n",
        "\n",
        "vectorizer = TfidfVectorizer()\n",
        "X_vectorized = vectorizer.fit_transform(tqdm(X, desc=\"Vectorizing Text\"))"
      ],
      "metadata": {
        "colab": {
          "base_uri": "https://localhost:8080/"
        },
        "id": "ZKhmiUkeaZKY",
        "outputId": "4272c71e-894f-40dc-e046-2bdf063cacfe"
      },
      "execution_count": 21,
      "outputs": [
        {
          "output_type": "stream",
          "name": "stderr",
          "text": [
            "Vectorizing Text: 100%|██████████| 49582/49582 [00:05<00:00, 8489.48it/s] \n"
          ]
        }
      ]
    },
    {
      "cell_type": "code",
      "source": [
        "# Split into full_train (80%) and test (20%)\n",
        "X_full_train, X_test, y_full_train, y_test = train_test_split(\n",
        "    X_vectorized, y,\n",
        "    test_size=0.2,\n",
        "    random_state=1,\n",
        "    stratify=y  # to keep classes balanced\n",
        ")\n",
        "\n",
        "# Split full_train into train (60%) and validation (20%)\n",
        "X_train, X_val, y_train, y_val = train_test_split(\n",
        "    X_full_train, y_full_train,\n",
        "    test_size=0.25,  # 25% of 80% = 20% of total\n",
        "    random_state=1,\n",
        "    stratify=y_full_train\n",
        ")"
      ],
      "metadata": {
        "id": "UDyc1PWSX708"
      },
      "execution_count": 22,
      "outputs": []
    },
    {
      "cell_type": "code",
      "source": [
        "print(X_full_train.shape, y_full_train.shape)\n",
        "print(X_train.shape, y_train.shape)\n",
        "print(X_val.shape, y_val.shape)\n",
        "print(X_test.shape, y_test.shape)"
      ],
      "metadata": {
        "colab": {
          "base_uri": "https://localhost:8080/"
        },
        "id": "yLje10-cZeJg",
        "outputId": "749a81af-32e4-4950-daa5-29a94cbab094"
      },
      "execution_count": 23,
      "outputs": [
        {
          "output_type": "stream",
          "name": "stdout",
          "text": [
            "(39665, 203225) (39665,)\n",
            "(29748, 203225) (29748,)\n",
            "(9917, 203225) (9917,)\n",
            "(9917, 203225) (9917,)\n"
          ]
        }
      ]
    },
    {
      "cell_type": "markdown",
      "source": [
        "# Training The Model (Selecting Best Algo)"
      ],
      "metadata": {
        "id": "Oouo9jrbi9UZ"
      }
    },
    {
      "cell_type": "code",
      "source": [
        "def run_text_classification_pipeline(X_train, X_val, y_train, y_val):\n",
        "\n",
        "    models = {\n",
        "        \"Logistic Regression\": LogisticRegression(max_iter=1000),\n",
        "        \"Multinomial NB\": MultinomialNB(),\n",
        "        \"Linear SVC\": LinearSVC(),\n",
        "        \"LightGBM\": LGBMClassifier()\n",
        "    }\n",
        "\n",
        "    f1_scores = []\n",
        "\n",
        "    print(\"\\nModel Results:\\n\")\n",
        "    for name, model in models.items():\n",
        "        print(f\"-- {name}\")\n",
        "\n",
        "        for _ in tqdm(range(1), desc=f\"{name} Training\", leave=False):\n",
        "          model.fit(X_train, y_train)\n",
        "          preds = model.predict(X_val)\n",
        "\n",
        "\n",
        "        acc = accuracy_score(y_val, preds)\n",
        "        prec = precision_score(y_val, preds, zero_division=0)\n",
        "        rec = recall_score(y_val, preds, zero_division=0)\n",
        "        f1 = f1_score(y_val, preds, zero_division=0)\n",
        "\n",
        "        f1_scores.append((name, f1))\n",
        "\n",
        "        print(f\"Accuracy : {acc:.4f}\")\n",
        "        print(f\"Precision: {prec:.4f}\")\n",
        "        print(f\"Recall : {rec:.4f}\")\n",
        "        print(f\"F1-score : {f1:.4f}\\n\")\n",
        "\n",
        "\n",
        "\n",
        "    # Plot F1 scores\n",
        "    f1_scores.sort(key=lambda x: x[1])\n",
        "    model_names, f1_values = zip(*f1_scores)\n",
        "\n",
        "    plt.figure(figsize=(10, 5))\n",
        "    plt.barh(model_names, f1_values, color='skyblue')\n",
        "    plt.xlabel(\"F1 Score\")\n",
        "    plt.title(\"Model Comparison (F1 Scores)\")\n",
        "    plt.grid(True, axis='x')\n",
        "    plt.tight_layout()\n",
        "    plt.show()\n"
      ],
      "metadata": {
        "id": "eK-CYNw1aFun"
      },
      "execution_count": 24,
      "outputs": []
    },
    {
      "cell_type": "code",
      "source": [
        "run_text_classification_pipeline(X_train, X_val, y_train, y_val)"
      ],
      "metadata": {
        "colab": {
          "base_uri": "https://localhost:8080/",
          "height": 1000
        },
        "id": "hOR6lZZmm90_",
        "outputId": "432027ef-0fea-458d-b2df-7cf734d2a0bd"
      },
      "execution_count": 25,
      "outputs": [
        {
          "output_type": "stream",
          "name": "stdout",
          "text": [
            "\n",
            "Model Results:\n",
            "\n",
            "-- Logistic Regression\n"
          ]
        },
        {
          "output_type": "stream",
          "name": "stderr",
          "text": []
        },
        {
          "output_type": "stream",
          "name": "stdout",
          "text": [
            "Accuracy : 0.8852\n",
            "Precision: 0.8772\n",
            "Recall : 0.8969\n",
            "F1-score : 0.8869\n",
            "\n",
            "-- Multinomial NB\n"
          ]
        },
        {
          "output_type": "stream",
          "name": "stderr",
          "text": []
        },
        {
          "output_type": "stream",
          "name": "stdout",
          "text": [
            "Accuracy : 0.8570\n",
            "Precision: 0.8640\n",
            "Recall : 0.8487\n",
            "F1-score : 0.8563\n",
            "\n",
            "-- Linear SVC\n"
          ]
        },
        {
          "output_type": "stream",
          "name": "stderr",
          "text": []
        },
        {
          "output_type": "stream",
          "name": "stdout",
          "text": [
            "Accuracy : 0.8877\n",
            "Precision: 0.8826\n",
            "Recall : 0.8953\n",
            "F1-score : 0.8889\n",
            "\n",
            "-- LightGBM\n"
          ]
        },
        {
          "output_type": "stream",
          "name": "stderr",
          "text": [
            "\rLightGBM Training:   0%|          | 0/1 [00:00<?, ?it/s]/usr/local/lib/python3.11/dist-packages/sklearn/utils/deprecation.py:151: FutureWarning: 'force_all_finite' was renamed to 'ensure_all_finite' in 1.6 and will be removed in 1.8.\n",
            "  warnings.warn(\n"
          ]
        },
        {
          "output_type": "stream",
          "name": "stdout",
          "text": [
            "[LightGBM] [Info] Number of positive: 14930, number of negative: 14818\n",
            "[LightGBM] [Info] Auto-choosing row-wise multi-threading, the overhead of testing was 10.157922 seconds.\n",
            "You can set `force_row_wise=true` to remove the overhead.\n",
            "And if memory is not enough, you can set `force_col_wise=true`.\n",
            "[LightGBM] [Info] Total Bins 564350\n",
            "[LightGBM] [Info] Number of data points in the train set: 29748, number of used features: 11735\n",
            "[LightGBM] [Info] [binary:BoostFromScore]: pavg=0.501882 -> initscore=0.007530\n",
            "[LightGBM] [Info] Start training from score 0.007530\n"
          ]
        },
        {
          "output_type": "stream",
          "name": "stderr",
          "text": [
            "/usr/local/lib/python3.11/dist-packages/sklearn/utils/deprecation.py:151: FutureWarning: 'force_all_finite' was renamed to 'ensure_all_finite' in 1.6 and will be removed in 1.8.\n",
            "  warnings.warn(\n"
          ]
        },
        {
          "output_type": "stream",
          "name": "stdout",
          "text": [
            "Accuracy : 0.8514\n",
            "Precision: 0.8439\n",
            "Recall : 0.8636\n",
            "F1-score : 0.8536\n",
            "\n"
          ]
        },
        {
          "output_type": "display_data",
          "data": {
            "text/plain": [
              "<Figure size 1000x500 with 1 Axes>"
            ],
            "image/png": "[encoded data removed]"
          },
          "metadata": {}
        }
      ]
    },
    {
      "cell_type": "markdown",
      "source": [
        "As can be seen from the final graph, Logistic Regression and Linear SVC both performed well but Linear SVC was slightly better and thus I will be **choosing Linear SVC** for the hyper parameter tuning and then for final testing on full_train and test."
      ],
      "metadata": {
        "id": "sPDhFluloBV_"
      }
    },
    {
      "cell_type": "markdown",
      "source": [
        "## Hyperparameter Tuning for Linear SVC"
      ],
      "metadata": {
        "id": "IKTSsnNi8fKN"
      }
    },
    {
      "cell_type": "code",
      "source": [
        "param_grid = {\n",
        "    'C': [0.01, 0.1, 1, 10],\n",
        "    'loss': ['squared_hinge'],\n",
        "    'max_iter': [1000, 2000],\n",
        "    'tol': [1e-4, 1e-3]\n",
        "}\n",
        "\n",
        "svc = LinearSVC()\n",
        "grid_search = GridSearchCV(svc, param_grid, cv=5, scoring='f1', n_jobs=-1, verbose=2)\n",
        "\n",
        "grid_search.fit(X_train, y_train)\n",
        "\n",
        "# Best model\n",
        "best_svc = grid_search.best_estimator_\n",
        "\n",
        "# Evaluate\n",
        "from sklearn.metrics import classification_report\n",
        "y_pred = best_svc.predict(X_val)\n",
        "print(classification_report(y_val, y_pred))\n",
        "print(\"Best parameters:\", grid_search.best_params_)\n",
        "\n"
      ],
      "metadata": {
        "colab": {
          "base_uri": "https://localhost:8080/"
        },
        "id": "ExIghNtu8EnY",
        "outputId": "6bc1a62d-8ead-492f-9890-5dd6f932098b"
      },
      "execution_count": 33,
      "outputs": [
        {
          "output_type": "stream",
          "name": "stdout",
          "text": [
            "Fitting 5 folds for each of 16 candidates, totalling 80 fits\n",
            "              precision    recall  f1-score   support\n",
            "\n",
            "           0       0.90      0.87      0.89      4940\n",
            "           1       0.88      0.90      0.89      4977\n",
            "\n",
            "    accuracy                           0.89      9917\n",
            "   macro avg       0.89      0.89      0.89      9917\n",
            "weighted avg       0.89      0.89      0.89      9917\n",
            "\n",
            "Best parameters: {'C': 0.1, 'loss': 'squared_hinge', 'max_iter': 1000, 'tol': 0.0001}\n"
          ]
        }
      ]
    },
    {
      "cell_type": "markdown",
      "source": [
        "Not that much of a difference, anyway, Linear SVC is now trained and tuned with the **final accuracy socre of 0.89**, which isn't that bad.\n",
        "\n",
        "And now, I will train this model using the same parameters on the full_train and test dataset.\n",
        "\n",
        "Parameters:\n",
        "'C': 0.1,\n",
        "'loss': 'squared_hinge',\n",
        "'max_iter': 1000,\n",
        "'tol': 0.0001"
      ],
      "metadata": {
        "id": "Wl5XMUqlIgNf"
      }
    },
    {
      "cell_type": "markdown",
      "source": [
        "# Training Final Linear SVC"
      ],
      "metadata": {
        "id": "2B1UTVvQJCXH"
      }
    },
    {
      "cell_type": "code",
      "source": [
        "final_model = LinearSVC(C=1.0, loss='squared_hinge', max_iter=1000, tol=0.0001)\n",
        "final_model.fit(X_full_train, y_full_train)\n",
        "\n",
        "y_test_preds = final_model.predict(X_test)\n",
        "\n",
        "print(\"Final Test Results:\")\n",
        "print(\"Accuracy :\", accuracy_score(y_test, y_test_preds))\n",
        "print(\"Precision:\", precision_score(y_test, y_test_preds))\n",
        "print(\"Recall   :\", recall_score(y_test, y_test_preds))\n",
        "print(\"F1 Score :\", f1_score(y_test, y_test_preds))"
      ],
      "metadata": {
        "colab": {
          "base_uri": "https://localhost:8080/"
        },
        "id": "R4mbQIdq_odz",
        "outputId": "45dfe1b6-ff6e-4127-fa41-9ef11222c623"
      },
      "execution_count": 36,
      "outputs": [
        {
          "output_type": "stream",
          "name": "stdout",
          "text": [
            "Final Test Results:\n",
            "Accuracy : 0.8955329232630836\n",
            "Precision: 0.8907396391037081\n",
            "Recall   : 0.902551737994776\n",
            "F1 Score : 0.8966067864271458\n"
          ]
        }
      ]
    },
    {
      "cell_type": "code",
      "source": [
        "acc = accuracy_score(y_test, y_test_preds)\n",
        "prec = precision_score(y_test, y_test_preds)\n",
        "rec = recall_score(y_test, y_test_preds)\n",
        "f1 = f1_score(y_test, y_test_preds)\n",
        "\n",
        "metrics = ['Accuracy', 'Precision', 'Recall', 'F1 Score']\n",
        "values = [acc, prec, rec, f1]\n",
        "\n",
        "plt.figure(figsize=(8, 5))\n",
        "plt.bar(metrics, values, color='lightseagreen')\n",
        "plt.ylim(0, 1)\n",
        "plt.title(\"Linear SVC Performance on Test Set\")\n",
        "plt.ylabel(\"Score\")\n",
        "for i, v in enumerate(values):\n",
        "    plt.text(i, v + 0.02, f\"{v:.2f}\", ha='center', fontweight='bold')\n",
        "plt.tight_layout()\n",
        "plt.show()"
      ],
      "metadata": {
        "colab": {
          "base_uri": "https://localhost:8080/",
          "height": 507
        },
        "id": "i6_qeXG6Jlrs",
        "outputId": "361ba1a3-0da1-4a96-ed2c-17e4705bfa0f"
      },
      "execution_count": 37,
      "outputs": [
        {
          "output_type": "display_data",
          "data": {
            "text/plain": [
              "<Figure size 800x500 with 1 Axes>"
            ],
            "image/png": "[encoded data removed]"
          },
          "metadata": {}
        }
      ]
    },
    {
      "cell_type": "markdown",
      "source": [
        "# Saving the Final Model"
      ],
      "metadata": {
        "id": "--fspTDcKBbY"
      }
    },
    {
      "cell_type": "code",
      "source": [
        "# Save the trained model\n",
        "with open(\"linear_svc_model.pkl\", \"wb\") as f:\n",
        "    pickle.dump(final_model, f)"
      ],
      "metadata": {
        "id": "ZEApgIW4JuUV"
      },
      "execution_count": 40,
      "outputs": []
    },
    {
      "cell_type": "code",
      "source": [
        "# Save vectorizer\n",
        "with open('vectorizer.pkl', 'wb') as f:\n",
        "    pickle.dump(vectorizer, f)"
      ],
      "metadata": {
        "id": "TW8mmWbNJ7pd"
      },
      "execution_count": 42,
      "outputs": []
    },
    {
      "cell_type": "code",
      "source": [],
      "metadata": {
        "id": "j95y0gv7Ku_p"
      },
      "execution_count": null,
      "outputs": []
    }
  ]
}